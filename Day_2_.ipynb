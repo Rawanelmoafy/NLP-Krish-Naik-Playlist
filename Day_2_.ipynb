{
  "nbformat": 4,
  "nbformat_minor": 0,
  "metadata": {
    "colab": {
      "provenance": [],
      "authorship_tag": "ABX9TyOsxf9PLWLOQmhAIo+NrLN2",
      "include_colab_link": true
    },
    "kernelspec": {
      "name": "python3",
      "display_name": "Python 3"
    },
    "language_info": {
      "name": "python"
    }
  },
  "cells": [
    {
      "cell_type": "markdown",
      "metadata": {
        "id": "view-in-github",
        "colab_type": "text"
      },
      "source": [
        "<a href=\"https://colab.research.google.com/github/Rawanelmoafy/NLP-Krish-Naik-Playlist/blob/main/Day_2_.ipynb\" target=\"_parent\"><img src=\"https://colab.research.google.com/assets/colab-badge.svg\" alt=\"Open In Colab\"/></a>"
      ]
    },
    {
      "cell_type": "code",
      "execution_count": 1,
      "metadata": {
        "colab": {
          "base_uri": "https://localhost:8080/"
        },
        "id": "CuYadUAxWX_4",
        "outputId": "6a69593f-50d3-49ad-d7f6-5e762790dd6f"
      },
      "outputs": [
        {
          "output_type": "stream",
          "name": "stdout",
          "text": [
            "Requirement already satisfied: nltk in /usr/local/lib/python3.11/dist-packages (3.9.1)\n",
            "Requirement already satisfied: click in /usr/local/lib/python3.11/dist-packages (from nltk) (8.2.1)\n",
            "Requirement already satisfied: joblib in /usr/local/lib/python3.11/dist-packages (from nltk) (1.5.1)\n",
            "Requirement already satisfied: regex>=2021.8.3 in /usr/local/lib/python3.11/dist-packages (from nltk) (2024.11.6)\n",
            "Requirement already satisfied: tqdm in /usr/local/lib/python3.11/dist-packages (from nltk) (4.67.1)\n"
          ]
        }
      ],
      "source": [
        "!pip install nltk"
      ]
    },
    {
      "cell_type": "code",
      "source": [
        "paragraph=\"\"\"The Berners Street hoax was perpetrated by the writer Theodore Hook in Westminster (now part of London) in 1810. After several weeks of preparation he made an apparently spontaneous bet with a friend that he could transform any property into the most talked-about address in London. Hook spent six weeks sending between a thousand and four thousand letters to tradespeople and businesses ordering deliveries of their goods and services to 54 Berners Street, Westminster, at various times on 27 November 1810. Several well-known people were also invited to call on the address, including the chairmen of the Bank of England and the East India Company, the Duke of Gloucester and the Lord Mayor of London.\n",
        "\n",
        "Hook and his friends rented rooms in the house opposite number 54 to view proceedings. Chimney sweeps began arriving at the address at 5:00 am on the day, followed by hundreds of representatives of several trades and businesses, including auctioneers, undertakers, grocers, butchers, bakers, pastry chefs and dancing masters; goods deliveries included organs, furniture, coal, wedding cakes, food, drink and a coffin. The police were called to try and manage the crowd but they were not able to clear the street until after the final influx of visitors at 5:00 pm: domestic servants who thought they were to be interviewed for a job.\n",
        "\n",
        "Hook was unidentified at the time, but admitted his involvement in a semi-autobiographical novel published twenty-five years after the event. The hoax was repeated across Britain and Paris, and was retold on stage, in song and by cartoonists.\"\"\""
      ],
      "metadata": {
        "id": "cHkDRddXWswP"
      },
      "execution_count": 2,
      "outputs": []
    },
    {
      "cell_type": "code",
      "source": [
        "paragraph"
      ],
      "metadata": {
        "colab": {
          "base_uri": "https://localhost:8080/",
          "height": 254
        },
        "id": "vc_JN1zDg322",
        "outputId": "365610be-e36e-4f0c-e529-2a559a8168d2"
      },
      "execution_count": 3,
      "outputs": [
        {
          "output_type": "execute_result",
          "data": {
            "text/plain": [
              "'The Berners Street hoax was perpetrated by the writer Theodore Hook in Westminster (now part of London) in 1810. After several weeks of preparation he made an apparently spontaneous bet with a friend that he could transform any property into the most talked-about address in London. Hook spent six weeks sending between a thousand and four thousand letters to tradespeople and businesses ordering deliveries of their goods and services to 54 Berners Street, Westminster, at various times on 27 November 1810. Several well-known people were also invited to call on the address, including the chairmen of the Bank of England and the East India Company, the Duke of Gloucester and the Lord Mayor of London.\\n\\nHook and his friends rented rooms in the house opposite number 54 to view proceedings. Chimney sweeps began arriving at the address at 5:00 am on the day, followed by hundreds of representatives of several trades and businesses, including auctioneers, undertakers, grocers, butchers, bakers, pastry chefs and dancing masters; goods deliveries included organs, furniture, coal, wedding cakes, food, drink and a coffin. The police were called to try and manage the crowd but they were not able to clear the street until after the final influx of visitors at 5:00 pm: domestic servants who thought they were to be interviewed for a job.\\n\\nHook was unidentified at the time, but admitted his involvement in a semi-autobiographical novel published twenty-five years after the event. The hoax was repeated across Britain and Paris, and was retold on stage, in song and by cartoonists.'"
            ],
            "application/vnd.google.colaboratory.intrinsic+json": {
              "type": "string"
            }
          },
          "metadata": {},
          "execution_count": 3
        }
      ]
    },
    {
      "cell_type": "code",
      "source": [
        "import nltk\n",
        "from nltk.stem import PorterStemmer # just library for stemming\n",
        "from nltk.corpus import stopwords"
      ],
      "metadata": {
        "id": "dKMx_tBlg5dp"
      },
      "execution_count": 4,
      "outputs": []
    },
    {
      "cell_type": "markdown",
      "source": [
        "Apply tokenization convert paragraph to sentences and then to words"
      ],
      "metadata": {
        "id": "Df84DofAhvA1"
      }
    },
    {
      "cell_type": "code",
      "source": [
        "nltk.download('punkt') #i need to download this to use nltk.sent_tokenize()\n",
        "nltk.download('punkt_tab')"
      ],
      "metadata": {
        "colab": {
          "base_uri": "https://localhost:8080/"
        },
        "id": "QcKQpfW9hjaL",
        "outputId": "5502c6c4-9995-422b-9eb8-dd852b129967"
      },
      "execution_count": 8,
      "outputs": [
        {
          "output_type": "stream",
          "name": "stderr",
          "text": [
            "[nltk_data] Downloading package punkt to /root/nltk_data...\n",
            "[nltk_data]   Package punkt is already up-to-date!\n",
            "[nltk_data] Downloading package punkt_tab to /root/nltk_data...\n",
            "[nltk_data]   Unzipping tokenizers/punkt_tab.zip.\n"
          ]
        },
        {
          "output_type": "execute_result",
          "data": {
            "text/plain": [
              "True"
            ]
          },
          "metadata": {},
          "execution_count": 8
        }
      ]
    },
    {
      "cell_type": "code",
      "source": [
        "sentences = nltk.sent_tokenize(paragraph) #divide paragraph to sentences\n",
        "sentences"
      ],
      "metadata": {
        "colab": {
          "base_uri": "https://localhost:8080/"
        },
        "id": "y6j_0o8piHGR",
        "outputId": "5cce3570-0d4e-4494-cf03-10b629dfcbbd"
      },
      "execution_count": 9,
      "outputs": [
        {
          "output_type": "execute_result",
          "data": {
            "text/plain": [
              "['The Berners Street hoax was perpetrated by the writer Theodore Hook in Westminster (now part of London) in 1810.',\n",
              " 'After several weeks of preparation he made an apparently spontaneous bet with a friend that he could transform any property into the most talked-about address in London.',\n",
              " 'Hook spent six weeks sending between a thousand and four thousand letters to tradespeople and businesses ordering deliveries of their goods and services to 54 Berners Street, Westminster, at various times on 27 November 1810.',\n",
              " 'Several well-known people were also invited to call on the address, including the chairmen of the Bank of England and the East India Company, the Duke of Gloucester and the Lord Mayor of London.',\n",
              " 'Hook and his friends rented rooms in the house opposite number 54 to view proceedings.',\n",
              " 'Chimney sweeps began arriving at the address at 5:00 am on the day, followed by hundreds of representatives of several trades and businesses, including auctioneers, undertakers, grocers, butchers, bakers, pastry chefs and dancing masters; goods deliveries included organs, furniture, coal, wedding cakes, food, drink and a coffin.',\n",
              " 'The police were called to try and manage the crowd but they were not able to clear the street until after the final influx of visitors at 5:00 pm: domestic servants who thought they were to be interviewed for a job.',\n",
              " 'Hook was unidentified at the time, but admitted his involvement in a semi-autobiographical novel published twenty-five years after the event.',\n",
              " 'The hoax was repeated across Britain and Paris, and was retold on stage, in song and by cartoonists.']"
            ]
          },
          "metadata": {},
          "execution_count": 9
        }
      ]
    },
    {
      "cell_type": "code",
      "source": [
        "stemmer =PorterStemmer()"
      ],
      "metadata": {
        "id": "ikI5njAcim3l"
      },
      "execution_count": 11,
      "outputs": []
    },
    {
      "cell_type": "code",
      "source": [
        "stemmer.stem('history')"
      ],
      "metadata": {
        "colab": {
          "base_uri": "https://localhost:8080/",
          "height": 36
        },
        "id": "C6WDouDljFCu",
        "outputId": "a7c3a0b5-d4ae-4eed-ff11-3413f9ed3475"
      },
      "execution_count": 14,
      "outputs": [
        {
          "output_type": "execute_result",
          "data": {
            "text/plain": [
              "'histori'"
            ],
            "application/vnd.google.colaboratory.intrinsic+json": {
              "type": "string"
            }
          },
          "metadata": {},
          "execution_count": 14
        }
      ]
    },
    {
      "cell_type": "code",
      "source": [
        "from nltk.stem import WordNetLemmatizer\n",
        "lemmatizer = WordNetLemmatizer()\n",
        "nltk.download('wordnet')"
      ],
      "metadata": {
        "colab": {
          "base_uri": "https://localhost:8080/"
        },
        "id": "iXLucIvyklA6",
        "outputId": "30b8d9ef-224c-4fba-8d7d-5cfe82a5f433"
      },
      "execution_count": 16,
      "outputs": [
        {
          "output_type": "stream",
          "name": "stderr",
          "text": [
            "[nltk_data] Downloading package wordnet to /root/nltk_data...\n"
          ]
        },
        {
          "output_type": "execute_result",
          "data": {
            "text/plain": [
              "True"
            ]
          },
          "metadata": {},
          "execution_count": 16
        }
      ]
    },
    {
      "cell_type": "code",
      "source": [
        "lemmatizer.lemmatize('history')"
      ],
      "metadata": {
        "colab": {
          "base_uri": "https://localhost:8080/",
          "height": 36
        },
        "id": "OuAbQvsvlDaG",
        "outputId": "8b227f72-6a16-46ee-c0e9-c5f3cad9f196"
      },
      "execution_count": 17,
      "outputs": [
        {
          "output_type": "execute_result",
          "data": {
            "text/plain": [
              "'history'"
            ],
            "application/vnd.google.colaboratory.intrinsic+json": {
              "type": "string"
            }
          },
          "metadata": {},
          "execution_count": 17
        }
      ]
    },
    {
      "cell_type": "markdown",
      "source": [
        "Now we will applay these in our text"
      ],
      "metadata": {
        "id": "clbSNHFMlYlO"
      }
    },
    {
      "cell_type": "code",
      "source": [
        "import re\n",
        "corpus =[]\n",
        "for i in range(len(sentences)):\n",
        "  text = re.sub('[^a-zA-Z]',' ',sentences[i])\n",
        "  text = text.lower()\n",
        "  corpus.append(text)\n",
        "corpus"
      ],
      "metadata": {
        "colab": {
          "base_uri": "https://localhost:8080/"
        },
        "id": "kC23yYprlMQ2",
        "outputId": "64bf3801-7f89-4234-8681-4dc2e035d0ff"
      },
      "execution_count": 19,
      "outputs": [
        {
          "output_type": "execute_result",
          "data": {
            "text/plain": [
              "['the berners street hoax was perpetrated by the writer theodore hook in westminster  now part of london  in      ',\n",
              " 'after several weeks of preparation he made an apparently spontaneous bet with a friend that he could transform any property into the most talked about address in london ',\n",
              " 'hook spent six weeks sending between a thousand and four thousand letters to tradespeople and businesses ordering deliveries of their goods and services to    berners street  westminster  at various times on    november      ',\n",
              " 'several well known people were also invited to call on the address  including the chairmen of the bank of england and the east india company  the duke of gloucester and the lord mayor of london ',\n",
              " 'hook and his friends rented rooms in the house opposite number    to view proceedings ',\n",
              " 'chimney sweeps began arriving at the address at      am on the day  followed by hundreds of representatives of several trades and businesses  including auctioneers  undertakers  grocers  butchers  bakers  pastry chefs and dancing masters  goods deliveries included organs  furniture  coal  wedding cakes  food  drink and a coffin ',\n",
              " 'the police were called to try and manage the crowd but they were not able to clear the street until after the final influx of visitors at      pm  domestic servants who thought they were to be interviewed for a job ',\n",
              " 'hook was unidentified at the time  but admitted his involvement in a semi autobiographical novel published twenty five years after the event ',\n",
              " 'the hoax was repeated across britain and paris  and was retold on stage  in song and by cartoonists ']"
            ]
          },
          "metadata": {},
          "execution_count": 19
        }
      ]
    },
    {
      "cell_type": "code",
      "source": [
        "nltk.download('stopwords')"
      ],
      "metadata": {
        "colab": {
          "base_uri": "https://localhost:8080/"
        },
        "id": "0edKaY9wpctO",
        "outputId": "a1e73ff5-8074-43c4-e9d4-0f0e7b9244f8"
      },
      "execution_count": 21,
      "outputs": [
        {
          "output_type": "stream",
          "name": "stderr",
          "text": [
            "[nltk_data] Downloading package stopwords to /root/nltk_data...\n",
            "[nltk_data]   Unzipping corpora/stopwords.zip.\n"
          ]
        },
        {
          "output_type": "execute_result",
          "data": {
            "text/plain": [
              "True"
            ]
          },
          "metadata": {},
          "execution_count": 21
        }
      ]
    },
    {
      "cell_type": "markdown",
      "source": [
        "Stemming"
      ],
      "metadata": {
        "id": "JZCSj4pN2gZD"
      }
    },
    {
      "cell_type": "code",
      "source": [
        "for i in corpus:\n",
        "  words = nltk.word_tokenize(i) #convert sentences to words\n",
        "  for word in words:\n",
        "    if word not in set(stopwords.words('english')):\n",
        "      print(stemmer.stem(word))"
      ],
      "metadata": {
        "colab": {
          "base_uri": "https://localhost:8080/"
        },
        "id": "embh_R3EmNdu",
        "outputId": "81b08d72-d3f1-4f6a-f2ea-ccefc66401a0"
      },
      "execution_count": 22,
      "outputs": [
        {
          "output_type": "stream",
          "name": "stdout",
          "text": [
            "berner\n",
            "street\n",
            "hoax\n",
            "perpetr\n",
            "writer\n",
            "theodor\n",
            "hook\n",
            "westminst\n",
            "part\n",
            "london\n",
            "sever\n",
            "week\n",
            "prepar\n",
            "made\n",
            "appar\n",
            "spontan\n",
            "bet\n",
            "friend\n",
            "could\n",
            "transform\n",
            "properti\n",
            "talk\n",
            "address\n",
            "london\n",
            "hook\n",
            "spent\n",
            "six\n",
            "week\n",
            "send\n",
            "thousand\n",
            "four\n",
            "thousand\n",
            "letter\n",
            "tradespeopl\n",
            "busi\n",
            "order\n",
            "deliveri\n",
            "good\n",
            "servic\n",
            "berner\n",
            "street\n",
            "westminst\n",
            "variou\n",
            "time\n",
            "novemb\n",
            "sever\n",
            "well\n",
            "known\n",
            "peopl\n",
            "also\n",
            "invit\n",
            "call\n",
            "address\n",
            "includ\n",
            "chairmen\n",
            "bank\n",
            "england\n",
            "east\n",
            "india\n",
            "compani\n",
            "duke\n",
            "gloucest\n",
            "lord\n",
            "mayor\n",
            "london\n",
            "hook\n",
            "friend\n",
            "rent\n",
            "room\n",
            "hous\n",
            "opposit\n",
            "number\n",
            "view\n",
            "proceed\n",
            "chimney\n",
            "sweep\n",
            "began\n",
            "arriv\n",
            "address\n",
            "day\n",
            "follow\n",
            "hundr\n",
            "repres\n",
            "sever\n",
            "trade\n",
            "busi\n",
            "includ\n",
            "auction\n",
            "undertak\n",
            "grocer\n",
            "butcher\n",
            "baker\n",
            "pastri\n",
            "chef\n",
            "danc\n",
            "master\n",
            "good\n",
            "deliveri\n",
            "includ\n",
            "organ\n",
            "furnitur\n",
            "coal\n",
            "wed\n",
            "cake\n",
            "food\n",
            "drink\n",
            "coffin\n",
            "polic\n",
            "call\n",
            "tri\n",
            "manag\n",
            "crowd\n",
            "abl\n",
            "clear\n",
            "street\n",
            "final\n",
            "influx\n",
            "visitor\n",
            "pm\n",
            "domest\n",
            "servant\n",
            "thought\n",
            "interview\n",
            "job\n",
            "hook\n",
            "unidentifi\n",
            "time\n",
            "admit\n",
            "involv\n",
            "semi\n",
            "autobiograph\n",
            "novel\n",
            "publish\n",
            "twenti\n",
            "five\n",
            "year\n",
            "event\n",
            "hoax\n",
            "repeat\n",
            "across\n",
            "britain\n",
            "pari\n",
            "retold\n",
            "stage\n",
            "song\n",
            "cartoonist\n"
          ]
        }
      ]
    },
    {
      "cell_type": "markdown",
      "source": [
        "Lemmatization"
      ],
      "metadata": {
        "id": "IrZWCZit2kKl"
      }
    },
    {
      "cell_type": "code",
      "source": [
        "for i in corpus:\n",
        "  words = nltk.word_tokenize(i)\n",
        "  for word in words:\n",
        "    if word not in set(stopwords.words('english')):\n",
        "      print(lemmatizer.lemmatize(word))"
      ],
      "metadata": {
        "colab": {
          "base_uri": "https://localhost:8080/"
        },
        "id": "d5fnx1vipZw2",
        "outputId": "56a57a4c-3523-48d6-eb44-fa31dc9379dd"
      },
      "execution_count": 27,
      "outputs": [
        {
          "output_type": "stream",
          "name": "stdout",
          "text": [
            "berners\n",
            "street\n",
            "hoax\n",
            "perpetrated\n",
            "writer\n",
            "theodore\n",
            "hook\n",
            "westminster\n",
            "part\n",
            "london\n",
            "several\n",
            "week\n",
            "preparation\n",
            "made\n",
            "apparently\n",
            "spontaneous\n",
            "bet\n",
            "friend\n",
            "could\n",
            "transform\n",
            "property\n",
            "talked\n",
            "address\n",
            "london\n",
            "hook\n",
            "spent\n",
            "six\n",
            "week\n",
            "sending\n",
            "thousand\n",
            "four\n",
            "thousand\n",
            "letter\n",
            "tradespeople\n",
            "business\n",
            "ordering\n",
            "delivery\n",
            "good\n",
            "service\n",
            "berners\n",
            "street\n",
            "westminster\n",
            "various\n",
            "time\n",
            "november\n",
            "several\n",
            "well\n",
            "known\n",
            "people\n",
            "also\n",
            "invited\n",
            "call\n",
            "address\n",
            "including\n",
            "chairman\n",
            "bank\n",
            "england\n",
            "east\n",
            "india\n",
            "company\n",
            "duke\n",
            "gloucester\n",
            "lord\n",
            "mayor\n",
            "london\n",
            "hook\n",
            "friend\n",
            "rented\n",
            "room\n",
            "house\n",
            "opposite\n",
            "number\n",
            "view\n",
            "proceeding\n",
            "chimney\n",
            "sweep\n",
            "began\n",
            "arriving\n",
            "address\n",
            "day\n",
            "followed\n",
            "hundred\n",
            "representative\n",
            "several\n",
            "trade\n",
            "business\n",
            "including\n",
            "auctioneer\n",
            "undertaker\n",
            "grocer\n",
            "butcher\n",
            "baker\n",
            "pastry\n",
            "chef\n",
            "dancing\n",
            "master\n",
            "good\n",
            "delivery\n",
            "included\n",
            "organ\n",
            "furniture\n",
            "coal\n",
            "wedding\n",
            "cake\n",
            "food\n",
            "drink\n",
            "coffin\n",
            "police\n",
            "called\n",
            "try\n",
            "manage\n",
            "crowd\n",
            "able\n",
            "clear\n",
            "street\n",
            "final\n",
            "influx\n",
            "visitor\n",
            "pm\n",
            "domestic\n",
            "servant\n",
            "thought\n",
            "interviewed\n",
            "job\n",
            "hook\n",
            "unidentified\n",
            "time\n",
            "admitted\n",
            "involvement\n",
            "semi\n",
            "autobiographical\n",
            "novel\n",
            "published\n",
            "twenty\n",
            "five\n",
            "year\n",
            "event\n",
            "hoax\n",
            "repeated\n",
            "across\n",
            "britain\n",
            "paris\n",
            "retold\n",
            "stage\n",
            "song\n",
            "cartoonist\n"
          ]
        }
      ]
    },
    {
      "cell_type": "markdown",
      "source": [
        "Frequancy Bag Of Words (BOW)"
      ],
      "metadata": {
        "id": "9FBCtjX830Cb"
      }
    },
    {
      "cell_type": "code",
      "source": [
        "from sklearn.feature_extraction.text import CountVectorizer\n",
        "CV = CountVectorizer()"
      ],
      "metadata": {
        "id": "IXJxeTqw22MJ"
      },
      "execution_count": 29,
      "outputs": []
    },
    {
      "cell_type": "code",
      "source": [
        "X = CV.fit_transform(corpus)"
      ],
      "metadata": {
        "id": "RWGbz-5P3r96"
      },
      "execution_count": 30,
      "outputs": []
    },
    {
      "cell_type": "code",
      "source": [
        "CV.vocabulary_\n",
        "# these numbers is the index"
      ],
      "metadata": {
        "colab": {
          "base_uri": "https://localhost:8080/"
        },
        "id": "P0ypXPfc4PbJ",
        "outputId": "816b78b1-b50f-479b-e1b0-bda20e0da659"
      },
      "execution_count": 35,
      "outputs": [
        {
          "output_type": "execute_result",
          "data": {
            "text/plain": [
              "{'the': 127,\n",
              " 'berners': 20,\n",
              " 'street': 123,\n",
              " 'hoax': 64,\n",
              " 'was': 147,\n",
              " 'perpetrated': 101,\n",
              " 'by': 27,\n",
              " 'writer': 155,\n",
              " 'theodore': 129,\n",
              " 'hook': 65,\n",
              " 'in': 68,\n",
              " 'westminster': 152,\n",
              " 'now': 90,\n",
              " 'part': 98,\n",
              " 'of': 92,\n",
              " 'london': 80,\n",
              " 'after': 5,\n",
              " 'several': 117,\n",
              " 'weeks': 149,\n",
              " 'preparation': 104,\n",
              " 'he': 62,\n",
              " 'made': 82,\n",
              " 'an': 8,\n",
              " 'apparently': 11,\n",
              " 'spontaneous': 121,\n",
              " 'bet': 21,\n",
              " 'with': 154,\n",
              " 'friend': 56,\n",
              " 'that': 126,\n",
              " 'could': 39,\n",
              " 'transform': 138,\n",
              " 'any': 10,\n",
              " 'property': 106,\n",
              " 'into': 74,\n",
              " 'most': 86,\n",
              " 'talked': 125,\n",
              " 'about': 1,\n",
              " 'address': 3,\n",
              " 'spent': 120,\n",
              " 'six': 118,\n",
              " 'sending': 114,\n",
              " 'between': 22,\n",
              " 'thousand': 132,\n",
              " 'and': 9,\n",
              " 'four': 55,\n",
              " 'letters': 79,\n",
              " 'to': 135,\n",
              " 'tradespeople': 137,\n",
              " 'businesses': 24,\n",
              " 'ordering': 95,\n",
              " 'deliveries': 43,\n",
              " 'their': 128,\n",
              " 'goods': 60,\n",
              " 'services': 116,\n",
              " 'at': 13,\n",
              " 'various': 144,\n",
              " 'times': 134,\n",
              " 'on': 93,\n",
              " 'november': 89,\n",
              " 'well': 150,\n",
              " 'known': 78,\n",
              " 'people': 100,\n",
              " 'were': 151,\n",
              " 'also': 6,\n",
              " 'invited': 75,\n",
              " 'call': 29,\n",
              " 'including': 70,\n",
              " 'chairmen': 32,\n",
              " 'bank': 17,\n",
              " 'england': 48,\n",
              " 'east': 47,\n",
              " 'india': 71,\n",
              " 'company': 38,\n",
              " 'duke': 46,\n",
              " 'gloucester': 59,\n",
              " 'lord': 81,\n",
              " 'mayor': 85,\n",
              " 'his': 63,\n",
              " 'friends': 57,\n",
              " 'rented': 108,\n",
              " 'rooms': 112,\n",
              " 'house': 66,\n",
              " 'opposite': 94,\n",
              " 'number': 91,\n",
              " 'view': 145,\n",
              " 'proceedings': 105,\n",
              " 'chimney': 34,\n",
              " 'sweeps': 124,\n",
              " 'began': 19,\n",
              " 'arriving': 12,\n",
              " 'am': 7,\n",
              " 'day': 42,\n",
              " 'followed': 52,\n",
              " 'hundreds': 67,\n",
              " 'representatives': 110,\n",
              " 'trades': 136,\n",
              " 'auctioneers': 14,\n",
              " 'undertakers': 141,\n",
              " 'grocers': 61,\n",
              " 'butchers': 26,\n",
              " 'bakers': 16,\n",
              " 'pastry': 99,\n",
              " 'chefs': 33,\n",
              " 'dancing': 41,\n",
              " 'masters': 84,\n",
              " 'included': 69,\n",
              " 'organs': 96,\n",
              " 'furniture': 58,\n",
              " 'coal': 36,\n",
              " 'wedding': 148,\n",
              " 'cakes': 28,\n",
              " 'food': 53,\n",
              " 'drink': 45,\n",
              " 'coffin': 37,\n",
              " 'police': 103,\n",
              " 'called': 30,\n",
              " 'try': 139,\n",
              " 'manage': 83,\n",
              " 'crowd': 40,\n",
              " 'but': 25,\n",
              " 'they': 130,\n",
              " 'not': 87,\n",
              " 'able': 0,\n",
              " 'clear': 35,\n",
              " 'until': 143,\n",
              " 'final': 50,\n",
              " 'influx': 72,\n",
              " 'visitors': 146,\n",
              " 'pm': 102,\n",
              " 'domestic': 44,\n",
              " 'servants': 115,\n",
              " 'who': 153,\n",
              " 'thought': 131,\n",
              " 'be': 18,\n",
              " 'interviewed': 73,\n",
              " 'for': 54,\n",
              " 'job': 77,\n",
              " 'unidentified': 142,\n",
              " 'time': 133,\n",
              " 'admitted': 4,\n",
              " 'involvement': 76,\n",
              " 'semi': 113,\n",
              " 'autobiographical': 15,\n",
              " 'novel': 88,\n",
              " 'published': 107,\n",
              " 'twenty': 140,\n",
              " 'five': 51,\n",
              " 'years': 156,\n",
              " 'event': 49,\n",
              " 'repeated': 109,\n",
              " 'across': 2,\n",
              " 'britain': 23,\n",
              " 'paris': 97,\n",
              " 'retold': 111,\n",
              " 'stage': 122,\n",
              " 'song': 119,\n",
              " 'cartoonists': 31}"
            ]
          },
          "metadata": {},
          "execution_count": 35
        }
      ]
    },
    {
      "cell_type": "code",
      "source": [
        "corpus[0]"
      ],
      "metadata": {
        "colab": {
          "base_uri": "https://localhost:8080/",
          "height": 54
        },
        "id": "8T-MkMVz5jXC",
        "outputId": "d9532b5a-da72-47bb-d3b6-0c34aff4bab9"
      },
      "execution_count": 36,
      "outputs": [
        {
          "output_type": "execute_result",
          "data": {
            "text/plain": [
              "'the berners street hoax was perpetrated by the writer theodore hook in westminster  now part of london  in      '"
            ],
            "application/vnd.google.colaboratory.intrinsic+json": {
              "type": "string"
            }
          },
          "metadata": {},
          "execution_count": 36
        }
      ]
    },
    {
      "cell_type": "code",
      "source": [
        "X[0].toarray()\n",
        "#if we notice in index 68 we got frequancy 2 this may be the or in\n",
        "#if we look at cv.vocabulary_ we will notice that in has the index 68"
      ],
      "metadata": {
        "colab": {
          "base_uri": "https://localhost:8080/"
        },
        "id": "b3BfrZX3439H",
        "outputId": "6845c07a-fbd1-44a5-dafd-ab4489b0a1cf"
      },
      "execution_count": 38,
      "outputs": [
        {
          "output_type": "execute_result",
          "data": {
            "text/plain": [
              "array([[0, 0, 0, 0, 0, 0, 0, 0, 0, 0, 0, 0, 0, 0, 0, 0, 0, 0, 0, 0, 1, 0,\n",
              "        0, 0, 0, 0, 0, 1, 0, 0, 0, 0, 0, 0, 0, 0, 0, 0, 0, 0, 0, 0, 0, 0,\n",
              "        0, 0, 0, 0, 0, 0, 0, 0, 0, 0, 0, 0, 0, 0, 0, 0, 0, 0, 0, 0, 1, 1,\n",
              "        0, 0, 2, 0, 0, 0, 0, 0, 0, 0, 0, 0, 0, 0, 1, 0, 0, 0, 0, 0, 0, 0,\n",
              "        0, 0, 1, 0, 1, 0, 0, 0, 0, 0, 1, 0, 0, 1, 0, 0, 0, 0, 0, 0, 0, 0,\n",
              "        0, 0, 0, 0, 0, 0, 0, 0, 0, 0, 0, 0, 0, 1, 0, 0, 0, 2, 0, 1, 0, 0,\n",
              "        0, 0, 0, 0, 0, 0, 0, 0, 0, 0, 0, 0, 0, 0, 0, 1, 0, 0, 0, 0, 1, 0,\n",
              "        0, 1, 0]])"
            ]
          },
          "metadata": {},
          "execution_count": 38
        }
      ]
    },
    {
      "cell_type": "markdown",
      "source": [
        "Binary Bag Of Words (BOW)"
      ],
      "metadata": {
        "id": "WjGIeGtQ7cxl"
      }
    },
    {
      "cell_type": "code",
      "source": [
        "CV = CountVectorizer(binary=True)"
      ],
      "metadata": {
        "id": "MRpz1GpH4T2e"
      },
      "execution_count": 39,
      "outputs": []
    },
    {
      "cell_type": "code",
      "source": [
        "X=CV.fit_transform(corpus)"
      ],
      "metadata": {
        "id": "C9aXWg-z7mZ7"
      },
      "execution_count": 40,
      "outputs": []
    },
    {
      "cell_type": "code",
      "source": [
        "X[0].toarray()"
      ],
      "metadata": {
        "colab": {
          "base_uri": "https://localhost:8080/"
        },
        "id": "GvOvBFpx7rXp",
        "outputId": "442b6a00-07cf-41f6-d1e8-8850df2ce55a"
      },
      "execution_count": 42,
      "outputs": [
        {
          "output_type": "execute_result",
          "data": {
            "text/plain": [
              "array([[0, 0, 0, 0, 0, 0, 0, 0, 0, 0, 0, 0, 0, 0, 0, 0, 0, 0, 0, 0, 1, 0,\n",
              "        0, 0, 0, 0, 0, 1, 0, 0, 0, 0, 0, 0, 0, 0, 0, 0, 0, 0, 0, 0, 0, 0,\n",
              "        0, 0, 0, 0, 0, 0, 0, 0, 0, 0, 0, 0, 0, 0, 0, 0, 0, 0, 0, 0, 1, 1,\n",
              "        0, 0, 1, 0, 0, 0, 0, 0, 0, 0, 0, 0, 0, 0, 1, 0, 0, 0, 0, 0, 0, 0,\n",
              "        0, 0, 1, 0, 1, 0, 0, 0, 0, 0, 1, 0, 0, 1, 0, 0, 0, 0, 0, 0, 0, 0,\n",
              "        0, 0, 0, 0, 0, 0, 0, 0, 0, 0, 0, 0, 0, 1, 0, 0, 0, 1, 0, 1, 0, 0,\n",
              "        0, 0, 0, 0, 0, 0, 0, 0, 0, 0, 0, 0, 0, 0, 0, 1, 0, 0, 0, 0, 1, 0,\n",
              "        0, 1, 0]])"
            ]
          },
          "metadata": {},
          "execution_count": 42
        }
      ]
    },
    {
      "cell_type": "markdown",
      "source": [
        "Apply Stopwords"
      ],
      "metadata": {
        "id": "60VUtWcUAmbT"
      }
    },
    {
      "cell_type": "code",
      "source": [
        "corpus = []\n",
        "for i in range(len(sentences)):\n",
        "  text = re.sub('[^a-zA-Z]',' ',sentences[i])\n",
        "  text = text.lower()\n",
        "  text = text.split()\n",
        "  text = [lemmatizer.lemmatize(word) for word in text if not word in set(stopwords.words('english')) ]\n",
        "  text = ' '.join(text)\n",
        "  corpus.append(text)\n",
        "corpus[0]\n"
      ],
      "metadata": {
        "colab": {
          "base_uri": "https://localhost:8080/",
          "height": 36
        },
        "id": "-0rIvcov7wwy",
        "outputId": "985542f5-b2df-49e0-abc4-5799415928d2"
      },
      "execution_count": 44,
      "outputs": [
        {
          "output_type": "execute_result",
          "data": {
            "text/plain": [
              "'berners street hoax perpetrated writer theodore hook westminster part london'"
            ],
            "application/vnd.google.colaboratory.intrinsic+json": {
              "type": "string"
            }
          },
          "metadata": {},
          "execution_count": 44
        }
      ]
    },
    {
      "cell_type": "code",
      "source": [
        "X=CV.fit_transform(corpus)"
      ],
      "metadata": {
        "id": "p9wb7nyPCGvf"
      },
      "execution_count": 45,
      "outputs": []
    },
    {
      "cell_type": "code",
      "source": [
        "X[0].toarray()"
      ],
      "metadata": {
        "colab": {
          "base_uri": "https://localhost:8080/"
        },
        "id": "Ojls7JLVCNbk",
        "outputId": "add75f12-a64e-477e-c61d-7ae94b86997e"
      },
      "execution_count": 46,
      "outputs": [
        {
          "output_type": "execute_result",
          "data": {
            "text/plain": [
              "array([[0, 0, 0, 0, 0, 0, 0, 0, 0, 0, 0, 0, 1, 0, 0, 0, 0, 0, 0, 0, 0, 0,\n",
              "        0, 0, 0, 0, 0, 0, 0, 0, 0, 0, 0, 0, 0, 0, 0, 0, 0, 0, 0, 0, 0, 0,\n",
              "        0, 0, 0, 0, 0, 1, 1, 0, 0, 0, 0, 0, 0, 0, 0, 0, 0, 0, 0, 1, 0, 0,\n",
              "        0, 0, 0, 0, 0, 0, 0, 0, 0, 0, 1, 0, 0, 1, 0, 0, 0, 0, 0, 0, 0, 0,\n",
              "        0, 0, 0, 0, 0, 0, 0, 0, 0, 0, 0, 0, 0, 1, 0, 0, 1, 0, 0, 0, 0, 0,\n",
              "        0, 0, 0, 0, 0, 0, 0, 0, 0, 0, 0, 1, 1, 0]])"
            ]
          },
          "metadata": {},
          "execution_count": 46
        }
      ]
    },
    {
      "cell_type": "code",
      "source": [],
      "metadata": {
        "id": "zW79z5Dzelfv"
      },
      "execution_count": null,
      "outputs": []
    }
  ]
}